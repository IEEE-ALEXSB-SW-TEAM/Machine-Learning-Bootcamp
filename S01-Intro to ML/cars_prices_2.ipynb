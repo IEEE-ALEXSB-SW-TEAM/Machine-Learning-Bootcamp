{
 "cells": [
  {
   "cell_type": "markdown",
   "id": "606ee30c-6d75-4531-8333-e1304b5bda10",
   "metadata": {},
   "source": [
    "## Imports"
   ]
  },
  {
   "cell_type": "code",
   "execution_count": 1,
   "id": "231945a5-2d8c-4272-bd73-d516e828bdd3",
   "metadata": {},
   "outputs": [],
   "source": [
    "import pandas as pd\n",
    "from sklearn.model_selection import train_test_split\n",
    "from sklearn.linear_model import LinearRegression, Ridge,Lasso \n",
    "from sklearn.metrics import mean_squared_error\n",
    "from sklearn.preprocessing import OneHotEncoder\n",
    "from sklearn.impute import SimpleImputer\n",
    "from sklearn.preprocessing import StandardScaler\n",
    "from sklearn.feature_selection import SelectKBest, f_regression\n",
    "import glob\n",
    "import math\n",
    "import seaborn as sns\n",
    "import matplotlib.pyplot as plt\n",
    "import os"
   ]
  },
  {
   "cell_type": "markdown",
   "id": "846ef06f-2730-4c9c-8c4a-ea30c1e4c568",
   "metadata": {},
   "source": [
    "### https://www.kaggle.com/datasets/adityadesai13/used-car-dataset-ford-and-mercedes\n",
    "This dataset was used in the two notebooks, after deleting the 2 uncleaned csv files."
   ]
  },
  {
   "cell_type": "markdown",
   "id": "fae7f9f5-6fac-4016-9878-af699c2de572",
   "metadata": {},
   "source": [
    "## Get all CSV files and combine them"
   ]
  },
  {
   "cell_type": "code",
   "execution_count": 2,
   "id": "d748893a-3d6b-4601-803d-b6a34c43b34b",
   "metadata": {},
   "outputs": [
    {
     "name": "stdout",
     "output_type": "stream",
     "text": [
      "(108540, 11)\n",
      "  model  year  price transmission  mileage fuelType    tax   mpg  engineSize  \\\n",
      "0    A1  2017  12500       Manual    15735   Petrol  150.0  55.4         1.4   \n",
      "1    A6  2016  16500    Automatic    36203   Diesel   20.0  64.2         2.0   \n",
      "2    A1  2016  11000       Manual    29946   Petrol   30.0  55.4         1.4   \n",
      "3    A4  2017  16800    Automatic    25952   Diesel  145.0  67.3         2.0   \n",
      "4    A3  2019  17300       Manual     1998   Petrol  145.0  49.6         1.0   \n",
      "\n",
      "  brand  tax(£)  \n",
      "0  audi     NaN  \n",
      "1  audi     NaN  \n",
      "2  audi     NaN  \n",
      "3  audi     NaN  \n",
      "4  audi     NaN  \n"
     ]
    }
   ],
   "source": [
    "# Get all CSV files in the folder\n",
    "csv_files = glob.glob(\"cars/*.csv\") \n",
    "\n",
    "dfs = [pd.read_csv(file).assign(brand=os.path.splitext(os.path.basename(file))[0]) for file in csv_files]\n",
    "\n",
    "# Combine all DataFrames into one\n",
    "df_combined = pd.concat(dfs, ignore_index=True)\n",
    "\n",
    "print(df_combined.shape)  # Check total rows & columns\n",
    "print(df_combined.head())  # Show first 5 rows\n"
   ]
  },
  {
   "cell_type": "markdown",
   "id": "3a47bbd4-7a42-444b-83df-a11e0b72040f",
   "metadata": {},
   "source": [
    "# Removing outliers"
   ]
  },
  {
   "cell_type": "code",
   "execution_count": 3,
   "id": "00060948-f67d-468a-9eef-edddb6e73170",
   "metadata": {},
   "outputs": [
    {
     "name": "stdout",
     "output_type": "stream",
     "text": [
      "Original rows: 108540\n",
      "Filtered rows: 104642\n"
     ]
    }
   ],
   "source": [
    "# Compute Q1 (25th percentile) and Q3 (75th percentile)\n",
    "Q1 = df_combined['price'].quantile(0.25)\n",
    "Q3 = df_combined['price'].quantile(0.75)\n",
    "IQR = Q3 - Q1  # Interquartile Range\n",
    "\n",
    "# Define lower and upper bounds for filtering\n",
    "lower_bound = Q1 - 1.5 * IQR\n",
    "upper_bound = Q3 + 1.5 * IQR\n",
    "print(f\"Original rows: {len(df_combined)}\") \n",
    "# Filter out outliers\n",
    "df_combined = df_combined[(df_combined['price'] >= lower_bound) & (df_combined['price'] <= upper_bound)]\n",
    "print(f\"Filtered rows: {len(df_combined)}\")\n"
   ]
  },
  {
   "cell_type": "markdown",
   "id": "2a14d133-11c6-4bb7-9c0e-b2d8a805eeec",
   "metadata": {},
   "source": [
    "## Dropping what's not important (or what's unclean)"
   ]
  },
  {
   "cell_type": "code",
   "execution_count": 4,
   "id": "bf37956c-bd6a-4366-adec-bb57c603cc98",
   "metadata": {},
   "outputs": [
    {
     "name": "stdout",
     "output_type": "stream",
     "text": [
      "(104642, 9)\n",
      "  model  year  price transmission  mileage fuelType   mpg  engineSize brand\n",
      "0    A1  2017  12500       Manual    15735   Petrol  55.4         1.4  audi\n",
      "1    A6  2016  16500    Automatic    36203   Diesel  64.2         2.0  audi\n",
      "2    A1  2016  11000       Manual    29946   Petrol  55.4         1.4  audi\n",
      "3    A4  2017  16800    Automatic    25952   Diesel  67.3         2.0  audi\n",
      "4    A3  2019  17300       Manual     1998   Petrol  49.6         1.0  audi\n",
      "model              0\n",
      "year               0\n",
      "price              0\n",
      "transmission       0\n",
      "mileage            0\n",
      "fuelType           0\n",
      "mpg             9131\n",
      "engineSize         0\n",
      "brand              0\n",
      "dtype: int64\n"
     ]
    }
   ],
   "source": [
    "df_combined = df_combined.drop(\"tax(£)\", axis=1)\n",
    "df_combined = df_combined.drop(\"tax\", axis=1)\n",
    "#df_combined = df_combined.drop(\"model\", axis=1)\n",
    "print(df_combined.shape)  # Check total rows & columns\n",
    "print(df_combined.head())  # Show first 5 rows\n",
    "print(df_combined.isnull().sum())  "
   ]
  },
  {
   "cell_type": "markdown",
   "id": "e140ed27-c09d-4fa1-80e7-f337014720e7",
   "metadata": {},
   "source": [
    "## MPG did have null values, you can fill them with median or mean"
   ]
  },
  {
   "cell_type": "code",
   "execution_count": 5,
   "id": "ffb7867b-cd16-4a6e-a77e-5f0c58feb312",
   "metadata": {},
   "outputs": [
    {
     "name": "stdout",
     "output_type": "stream",
     "text": [
      "model           0\n",
      "year            0\n",
      "price           0\n",
      "transmission    0\n",
      "mileage         0\n",
      "fuelType        0\n",
      "mpg             0\n",
      "engineSize      0\n",
      "brand           0\n",
      "dtype: int64\n"
     ]
    }
   ],
   "source": [
    "# Create an imputer with median strategy\n",
    "imputer = SimpleImputer(strategy=\"mean\")\n",
    "\n",
    "# Fit and transform only the 'mileage' column\n",
    "df_combined[\"mpg\"] = imputer.fit_transform(df_combined[[\"mpg\"]])\n",
    "print(df_combined.isnull().sum())  "
   ]
  },
  {
   "cell_type": "markdown",
   "id": "5c4058c0-0d9b-4f94-af89-41e3b3033e74",
   "metadata": {},
   "source": [
    "## Any categorical column can be hot encoded"
   ]
  },
  {
   "cell_type": "code",
   "execution_count": 6,
   "id": "e8308578-3846-48ce-baeb-bdd385e40d70",
   "metadata": {},
   "outputs": [
    {
     "name": "stdout",
     "output_type": "stream",
     "text": [
      "year              0\n",
      "price             0\n",
      "mileage           0\n",
      "mpg               0\n",
      "engineSize        0\n",
      "                 ..\n",
      "brand_toyota      0\n",
      "brand_vauxhall    0\n",
      "brand_vw          0\n",
      "mpg_mileage       0\n",
      "engineSize_mpg    0\n",
      "Length: 210, dtype: int64\n"
     ]
    }
   ],
   "source": [
    "# Load data (assuming df_combined is already read)\n",
    "categorical_cols = [\"model\", \"transmission\", \"fuelType\",\"brand\"]\n",
    "\n",
    "# One-Hot Encoding (drop first category to avoid multicollinearity)\n",
    "encoder = OneHotEncoder(sparse_output=False, drop=\"first\")\n",
    "encoded_data = encoder.fit_transform(df_combined[categorical_cols]) \n",
    "\n",
    "# Convert to DataFrame with proper column names\n",
    "encoded_df = pd.DataFrame(encoded_data, columns=encoder.get_feature_names_out(categorical_cols))\n",
    "\n",
    "encoded_df.index = df_combined.index\n",
    "# Drop original categorical columns and concatenate new encoded columns\n",
    "df_combined = df_combined.drop(categorical_cols, axis=1)\n",
    "df_combined = pd.concat([df_combined, encoded_df], axis=1)\n",
    "\n",
    "\n",
    "df_combined[\"mpg_mileage\"] = df_combined[\"mileage\"]*df_combined[\"mpg\"]\n",
    "df_combined[\"mpg_mileage\"] = df_combined[\"mileage\"]*df_combined[\"mpg\"]/100000\n",
    "df_combined[\"engineSize_mpg\"] = df_combined[\"engineSize\"]* df_combined[\"mpg\"]\n",
    "print(df_combined.isnull().sum())  "
   ]
  },
  {
   "cell_type": "markdown",
   "id": "4edb318e-f10d-459a-877a-713b4c29ebd3",
   "metadata": {},
   "source": [
    "## Car age is better than year and more descriptive"
   ]
  },
  {
   "cell_type": "code",
   "execution_count": 7,
   "id": "97a61c60-cc0d-48f3-a120-902914da421b",
   "metadata": {},
   "outputs": [
    {
     "name": "stdout",
     "output_type": "stream",
     "text": [
      "   price  mileage   mpg  engineSize  model_ 2 Series  model_ 3 Series  \\\n",
      "0  12500    15735  55.4         1.4              0.0              0.0   \n",
      "1  16500    36203  64.2         2.0              0.0              0.0   \n",
      "2  11000    29946  55.4         1.4              0.0              0.0   \n",
      "3  16800    25952  67.3         2.0              0.0              0.0   \n",
      "4  17300     1998  49.6         1.0              0.0              0.0   \n",
      "\n",
      "   model_ 4 Series  model_ 5 Series  model_ 6 Series  model_ 7 Series  ...  \\\n",
      "0              0.0              0.0              0.0              0.0  ...   \n",
      "1              0.0              0.0              0.0              0.0  ...   \n",
      "2              0.0              0.0              0.0              0.0  ...   \n",
      "3              0.0              0.0              0.0              0.0  ...   \n",
      "4              0.0              0.0              0.0              0.0  ...   \n",
      "\n",
      "   brand_ford  brand_hyundi  brand_merc  brand_skoda  brand_toyota  \\\n",
      "0         0.0           0.0         0.0          0.0           0.0   \n",
      "1         0.0           0.0         0.0          0.0           0.0   \n",
      "2         0.0           0.0         0.0          0.0           0.0   \n",
      "3         0.0           0.0         0.0          0.0           0.0   \n",
      "4         0.0           0.0         0.0          0.0           0.0   \n",
      "\n",
      "   brand_vauxhall  brand_vw  mpg_mileage  engineSize_mpg  car_age  \n",
      "0             0.0       0.0     8.717190           77.56        8  \n",
      "1             0.0       0.0    23.242326          128.40        9  \n",
      "2             0.0       0.0    16.590084           77.56        9  \n",
      "3             0.0       0.0    17.465696          134.60        8  \n",
      "4             0.0       0.0     0.991008           49.60        6  \n",
      "\n",
      "[5 rows x 210 columns]\n"
     ]
    }
   ],
   "source": [
    "df_combined[\"car_age\"] = 2025 - df_combined[\"year\"]\n",
    "df_combined = df_combined.drop(\"year\", axis=1)  # Drop the original year column\n",
    "print(df_combined.head())  # Show first 5 rows"
   ]
  },
  {
   "cell_type": "markdown",
   "id": "25aa0366-c034-40af-a0c8-de441ca12de1",
   "metadata": {},
   "source": [
    "## Separate features (X) and target (y)"
   ]
  },
  {
   "cell_type": "code",
   "execution_count": 8,
   "id": "887de1ae-ded8-464e-bec8-dc3bb87bddff",
   "metadata": {},
   "outputs": [
    {
     "name": "stdout",
     "output_type": "stream",
     "text": [
      "Mean price: 15690.204736148009\n"
     ]
    },
    {
     "data": {
      "image/png": "[encoded data removed]",
      "text/plain": [
       "<Figure size 640x480 with 1 Axes>"
      ]
     },
     "metadata": {},
     "output_type": "display_data"
    }
   ],
   "source": [
    "X = df_combined.drop(\"price\", axis=1)  # Features\n",
    "y = df_combined[\"price\"]  # Target\n",
    "print(\"Mean price:\", y.mean())\n",
    "y.median()\n",
    "\n",
    "\n",
    "# Example data (replace with actual prices)\n",
    "sns.kdeplot(df_combined[\"price\"], fill=True, color='blue')\n",
    "\n",
    "plt.xlabel(\"Car Price ($)\")\n",
    "plt.ylabel(\"Density\")\n",
    "plt.title(\"Car Price Distribution (Density Plot)\")\n",
    "plt.grid(True)\n",
    "plt.show()"
   ]
  },
  {
   "cell_type": "markdown",
   "id": "42bf5d18-9a45-44d4-a578-2c8fc491c32e",
   "metadata": {},
   "source": [
    "# Split data: 60% train, 20% validation, 20% test"
   ]
  },
  {
   "cell_type": "code",
   "execution_count": 9,
   "id": "db86b5a2-9a03-49ea-8066-12275dc328ce",
   "metadata": {},
   "outputs": [],
   "source": [
    "X_train, X_temp, y_train, y_temp = train_test_split(X, y, test_size=0.4, random_state=42)  # 60% train\n",
    "X_val, X_test, y_val, y_test = train_test_split(X_temp, y_temp, test_size=0.5, random_state=42)  # 20% val, 20% test"
   ]
  },
  {
   "cell_type": "markdown",
   "id": "a1c85387-6a02-4f7d-a025-9802474f7353",
   "metadata": {},
   "source": [
    "## Scaling the data (zero mean, unit variance)"
   ]
  },
  {
   "cell_type": "code",
   "execution_count": 10,
   "id": "1bbc321c-cddf-485e-af54-54a911830703",
   "metadata": {},
   "outputs": [],
   "source": [
    "\n",
    "\n",
    "# Select numerical columns to scale (excluding 'price' since it's the target variable)\n",
    "numerical_cols = [\"mileage\", \"mpg\", \"engineSize\", \"mpg_mileage\", \"engineSize_mpg\", \"car_age\"]\n",
    "scaler = StandardScaler()\n",
    "X_train_scaled = X_train.copy()\n",
    "X_val_scaled = X_val.copy()\n",
    "X_test_scaled = X_test.copy()\n",
    "X_train_scaled[numerical_cols] = scaler.fit_transform(X_train[numerical_cols])\n",
    "X_val_scaled[numerical_cols] = scaler.transform(X_val[numerical_cols])\n",
    "X_test_scaled[numerical_cols] = scaler.transform(X_test[numerical_cols])\n"
   ]
  },
  {
   "cell_type": "code",
   "execution_count": 11,
   "id": "0c98747b-693d-4dca-87fc-4c97db4ac705",
   "metadata": {},
   "outputs": [],
   "source": [
    "# # Select the top 10 features\n",
    "# selector = SelectKBest(score_func=f_regression, k=10)\n",
    "# X_train = selector.fit_transform(X_train, y_train)\n",
    "\n",
    "# # Apply the same transformation to validation and test sets\n",
    "# X_val = selector.transform(X_val)\n",
    "# X_test = selector.transform(X_test)\n",
    "\n",
    "# scaler = StandardScaler()\n",
    "\n",
    "# X_train_scaled= scaler.fit_transform(X_train)\n",
    "# X_val_scaled = scaler.transform(X_val)\n",
    "# X_test_scaled= scaler.transform(X_test)"
   ]
  },
  {
   "cell_type": "markdown",
   "id": "5ba37213-6071-4379-bb88-aee91d727c45",
   "metadata": {},
   "source": [
    "The cell above will fix the very huge error by the linear regression model, but it won't be better after regularization."
   ]
  },
  {
   "cell_type": "markdown",
   "id": "6bc8093d-4e02-4e84-ad02-25155f43714c",
   "metadata": {},
   "source": [
    "## Train Linear Regression Model"
   ]
  },
  {
   "cell_type": "code",
   "execution_count": 12,
   "id": "9adfd4b3-a0da-450e-8640-37807f44f187",
   "metadata": {},
   "outputs": [
    {
     "name": "stdout",
     "output_type": "stream",
     "text": [
      "Linear Regression - Validation MSE: 7010318630337560673517568.00\n",
      "Linear Regression - Test MSE: 867861889311886826012672.00\n"
     ]
    }
   ],
   "source": [
    "lr_model = LinearRegression()\n",
    "lr_model.fit(X_train_scaled, y_train)\n",
    "\n",
    "# Predict\n",
    "y_val_pred = lr_model.predict(X_val_scaled)\n",
    "y_test_pred = lr_model.predict(X_test_scaled)\n",
    "\n",
    "# Calculate MSE\n",
    "val_mse = mean_squared_error(y_val, y_val_pred)\n",
    "test_mse = mean_squared_error(y_test, y_test_pred)\n",
    "\n",
    "print(f\"Linear Regression - Validation MSE: {val_mse:.2f}\")\n",
    "print(f\"Linear Regression - Test MSE: {test_mse:.2f}\")\n"
   ]
  },
  {
   "cell_type": "markdown",
   "id": "38019db5-8a65-4bee-8fdd-04e8aab91c75",
   "metadata": {},
   "source": [
    "## L1 Regularization"
   ]
  },
  {
   "cell_type": "code",
   "execution_count": 13,
   "id": "2f573e78-c788-4d6a-8f6d-25fd2481d6fe",
   "metadata": {},
   "outputs": [
    {
     "name": "stdout",
     "output_type": "stream",
     "text": [
      "Ridge Regression - Validation MSE: 6868878.94\n",
      "Ridge Regression - Test MSE: 6434935.16\n"
     ]
    }
   ],
   "source": [
    "lasso_model = Lasso(alpha=1.0,max_iter=10000)  # Alpha = Regularization Strength\n",
    "lasso_model.fit(X_train_scaled, y_train)\n",
    "\n",
    "# Predict and evaluate\n",
    "y_val_lasso = lasso_model.predict(X_val_scaled)\n",
    "y_test_lasso = lasso_model.predict(X_test_scaled)\n",
    "\n",
    "lasso_val_mse = mean_squared_error(y_val, y_val_lasso)\n",
    "lasso_test_mse = mean_squared_error(y_test, y_test_lasso)\n",
    "\n",
    "print(f\"Ridge Regression - Validation MSE: {lasso_val_mse:.2f}\")\n",
    "print(f\"Ridge Regression - Test MSE: {lasso_test_mse:.2f}\")\n"
   ]
  },
  {
   "cell_type": "markdown",
   "id": "e15d08b9-cdc6-479f-862d-d10d10413cc6",
   "metadata": {},
   "source": [
    "## L2 Regularization"
   ]
  },
  {
   "cell_type": "code",
   "execution_count": 14,
   "id": "382c84af-701a-4f8b-ac1c-0190cde92cad",
   "metadata": {},
   "outputs": [
    {
     "name": "stdout",
     "output_type": "stream",
     "text": [
      "Ridge Regression - Validation MSE: 6712061.38\n",
      "Ridge Regression - Test MSE: 6297298.19\n"
     ]
    }
   ],
   "source": [
    "ridge_model = Ridge(alpha=1.0)  # Alpha = Regularization Strength\n",
    "ridge_model.fit(X_train_scaled, y_train)\n",
    "\n",
    "# Predict and evaluate\n",
    "y_val_ridge = ridge_model.predict(X_val_scaled)\n",
    "y_test_ridge = ridge_model.predict(X_test_scaled)\n",
    "\n",
    "ridge_val_mse = mean_squared_error(y_val, y_val_ridge)\n",
    "ridge_test_mse = mean_squared_error(y_test, y_test_ridge)\n",
    "\n",
    "print(f\"Ridge Regression - Validation MSE: {ridge_val_mse:.2f}\")\n",
    "print(f\"Ridge Regression - Test MSE: {ridge_test_mse:.2f}\")\n"
   ]
  },
  {
   "cell_type": "code",
   "execution_count": 15,
   "id": "be98cbe2-b21f-442b-9eeb-64af9581d671",
   "metadata": {},
   "outputs": [
    {
     "data": {
      "text/plain": [
       "0.17745487220630937"
      ]
     },
     "execution_count": 15,
     "metadata": {},
     "output_type": "execute_result"
    }
   ],
   "source": [
    "math.sqrt(lasso_test_mse)/y.median()"
   ]
  },
  {
   "cell_type": "code",
   "execution_count": 16,
   "id": "f1e229fb-040b-4290-903f-7cf2d1ef27f9",
   "metadata": {},
   "outputs": [
    {
     "data": {
      "text/plain": [
       "0.17554682119412016"
      ]
     },
     "execution_count": 16,
     "metadata": {},
     "output_type": "execute_result"
    }
   ],
   "source": [
    "math.sqrt(ridge_test_mse)/y.median()"
   ]
  },
  {
   "cell_type": "code",
   "execution_count": 17,
   "id": "10dbb9bd-c61f-4846-bf1f-c1fbe0bba77b",
   "metadata": {},
   "outputs": [
    {
     "name": "stdout",
     "output_type": "stream",
     "text": [
      "               price        mileage            mpg     engineSize  \\\n",
      "count  104642.000000  104642.000000  104642.000000  104642.000000   \n",
      "mean    15690.204736   23641.708989      55.818999       1.615084   \n",
      "std      7232.000105   21272.248072      15.002283       0.491574   \n",
      "min       450.000000       1.000000       0.300000       0.000000   \n",
      "25%      9999.000000    8119.250000      47.900000       1.200000   \n",
      "50%     14295.000000   18016.000000      55.818999       1.500000   \n",
      "75%     19990.000000   32942.750000      61.700000       2.000000   \n",
      "max     37000.000000  323000.000000     470.800000       6.300000   \n",
      "\n",
      "       model_ 2 Series  model_ 3 Series  model_ 4 Series  model_ 5 Series  \\\n",
      "count    104642.000000     104642.00000    104642.000000    104642.000000   \n",
      "mean          0.011726          0.02263         0.009308         0.009719   \n",
      "std           0.107649          0.14872         0.096028         0.098104   \n",
      "min           0.000000          0.00000         0.000000         0.000000   \n",
      "25%           0.000000          0.00000         0.000000         0.000000   \n",
      "50%           0.000000          0.00000         0.000000         0.000000   \n",
      "75%           0.000000          0.00000         0.000000         0.000000   \n",
      "max           1.000000          1.00000         1.000000         1.000000   \n",
      "\n",
      "       model_ 6 Series  model_ 7 Series  ...     brand_ford   brand_hyundi  \\\n",
      "count    104642.000000    104642.000000  ...  104642.000000  104642.000000   \n",
      "mean          0.000965         0.000506  ...       0.171442       0.046406   \n",
      "std           0.031053         0.022500  ...       0.376896       0.210363   \n",
      "min           0.000000         0.000000  ...       0.000000       0.000000   \n",
      "25%           0.000000         0.000000  ...       0.000000       0.000000   \n",
      "50%           0.000000         0.000000  ...       0.000000       0.000000   \n",
      "75%           0.000000         0.000000  ...       0.000000       0.000000   \n",
      "max           1.000000         1.000000  ...       1.000000       1.000000   \n",
      "\n",
      "          brand_merc    brand_skoda   brand_toyota  brand_vauxhall  \\\n",
      "count  104642.000000  104642.000000  104642.000000   104642.000000   \n",
      "mean        0.111800       0.059852       0.063961        0.130254   \n",
      "std         0.315122       0.237213       0.244685        0.336584   \n",
      "min         0.000000       0.000000       0.000000        0.000000   \n",
      "25%         0.000000       0.000000       0.000000        0.000000   \n",
      "50%         0.000000       0.000000       0.000000        0.000000   \n",
      "75%         0.000000       0.000000       0.000000        0.000000   \n",
      "max         1.000000       1.000000       1.000000        1.000000   \n",
      "\n",
      "            brand_vw    mpg_mileage  engineSize_mpg        car_age  \n",
      "count  104642.000000  104642.000000   104642.000000  104642.000000  \n",
      "mean        0.142132      13.695511       88.946270       7.969964  \n",
      "std         0.349187      13.526916       31.278373       2.131805  \n",
      "min         0.000000       0.000112        0.000000     -35.000000  \n",
      "25%         0.000000       4.164288       65.160000       6.000000  \n",
      "50%         0.000000      10.052310       80.800000       8.000000  \n",
      "75%         0.000000      19.066134      111.637998       9.000000  \n",
      "max         1.000000     375.839640      504.500000      55.000000  \n",
      "\n",
      "[8 rows x 210 columns]\n"
     ]
    }
   ],
   "source": [
    "print(df_combined.describe())"
   ]
  },
  {
   "cell_type": "markdown",
   "id": "3515fb2c-5f05-46fa-9d47-dd7caaad9b75",
   "metadata": {},
   "source": [
    "use describe to check if data could be cleaned more, and the answer is yes, this data could be cleaned more."
   ]
  }
 ],
 "metadata": {
  "kernelspec": {
   "display_name": "Python 3 (ipykernel)",
   "language": "python",
   "name": "python3"
  },
  "language_info": {
   "codemirror_mode": {
    "name": "ipython",
    "version": 3
   },
   "file_extension": ".py",
   "mimetype": "text/x-python",
   "name": "python",
   "nbconvert_exporter": "python",
   "pygments_lexer": "ipython3",
   "version": "3.12.0"
  }
 },
 "nbformat": 4,
 "nbformat_minor": 5
}
