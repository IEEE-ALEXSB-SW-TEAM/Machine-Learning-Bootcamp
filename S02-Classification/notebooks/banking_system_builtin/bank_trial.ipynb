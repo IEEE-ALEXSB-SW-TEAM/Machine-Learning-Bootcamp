{
 "cells": [
  {
   "cell_type": "markdown",
   "id": "64f30142",
   "metadata": {},
   "source": [
    "## 1. Import libraries"
   ]
  },
  {
   "cell_type": "markdown",
   "id": "effe5e1b",
   "metadata": {},
   "source": [
    "## 2. Load dataset"
   ]
  },
  {
   "cell_type": "markdown",
   "id": "9dcd77f6",
   "metadata": {},
   "source": [
    "## 3. Encode target (yes/no -> 1/0)"
   ]
  },
  {
   "cell_type": "markdown",
   "id": "f54cd6db",
   "metadata": {},
   "source": [
    "## 4. Encode categorical variables"
   ]
  },
  {
   "cell_type": "markdown",
   "id": "372675a3",
   "metadata": {},
   "source": [
    "## 5. Train-test split"
   ]
  },
  {
   "cell_type": "markdown",
   "id": "743ea772",
   "metadata": {},
   "source": [
    "## 6. Train Logistic Regression"
   ]
  },
  {
   "cell_type": "markdown",
   "id": "1f7e23a0",
   "metadata": {},
   "source": [
    "## 7. Evaluation"
   ]
  }
 ],
 "metadata": {
  "kernelspec": {
   "display_name": "Python 3",
   "language": "python",
   "name": "python3"
  },
  "language_info": {
   "codemirror_mode": {
    "name": "ipython",
    "version": 3
   },
   "file_extension": ".py",
   "mimetype": "text/x-python",
   "name": "python",
   "nbconvert_exporter": "python",
   "pygments_lexer": "ipython3",
   "version": "3.10.6"
  }
 },
 "nbformat": 4,
 "nbformat_minor": 5
}
