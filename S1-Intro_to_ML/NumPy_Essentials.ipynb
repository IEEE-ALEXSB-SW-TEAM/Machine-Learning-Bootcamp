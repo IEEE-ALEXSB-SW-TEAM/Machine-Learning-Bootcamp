{
 "cells": [
  {
   "cell_type": "markdown",
   "id": "b4f498a5",
   "metadata": {},
   "source": [
    "# NumPy Essentials"
   ]
  },
  {
   "cell_type": "markdown",
   "id": "bf91c3ae",
   "metadata": {},
   "source": [
    "## 1. What is NumPy and why it's important in machine learning\n"
   ]
  },
  {
   "cell_type": "markdown",
   "id": "cb3f4e51",
   "metadata": {},
   "source": [
    "NumPy (Numerical Python) is a powerful library for numerical computing in Python. It provides support for arrays, matrices, and a wide range of mathematical functions to operate on these data structures efficiently. NumPy is essential in machine learning for several reasons:\n",
    "1. **Efficient Data Handling**: NumPy arrays are more memory-efficient and faster than Python lists, making them ideal for handling large datasets commonly used in machine learning.\n",
    "2. **Mathematical Operations**: NumPy provides a wide range of mathematical functions that can be applied to arrays, enabling efficient computations required in machine learning algorithms.\n",
    "3. **Integration with Other Libraries**: Many machine learning libraries, such as TensorFlow and scikit-learn, are built on top of NumPy, making it a fundamental component of the machine learning ecosystem.\n",
    "4. **Broadcasting**: NumPy's broadcasting feature allows for operations on arrays of different shapes, simplifying code and improving performance.\n",
    "5. **Linear Algebra Support**: Many machine learning algorithms rely on linear algebra operations, which NumPy handles efficiently."
   ]
  },
  {
   "cell_type": "markdown",
   "id": "cc107e31",
   "metadata": {},
   "source": [
    "## 2. NumPy Arrays\n",
    "NumPy arrays are the core data structure in NumPy. They are similar to Python lists but offer several advantages, including fixed data types, efficient memory usage, and support for vectorized operations."
   ]
  },
  {
   "cell_type": "markdown",
   "id": "9c2ad066",
   "metadata": {},
   "source": [
    "## 1. Creating Arrays\n",
    "```python   \n",
    "import numpy as np\n",
    "# From a Python list\n",
    "arr1 = np.array([1, 2, 3, 4, 5])\n",
    "# From a nested list (2D array)\n",
    "arr2 = np.array([[1, 2, 3], [4, 5, 6]])\n",
    "# Using built-in functions\n",
    "arr3 = np.zeros((3, 4))  # 3x4 array of zeros\n",
    "arr4 = np.ones((2, 3))   # 2x3 array of ones\n",
    "arr5 = np.arange(0, 10, 2)  # Array with values from 0 to 10 with step 2\n",
    "arr6 = np.linspace(0, 1, 5)  # 5 values evenly spaced between 0 and 1\n",
    "```\n",
    "## 2. Array Attributes\n",
    "```python\n",
    "# Shape of the array\n",
    "print(arr1.shape)  # (5,)\n",
    "print(arr2.shape)  # (2, 3)\n",
    "# Data type of the array\n",
    "print(arr1.dtype)  # int64\n",
    "print(arr3.dtype)  # float64\n",
    "# Number of dimensions\n",
    "print(arr1.ndim)   # 1\n",
    "print(arr2.ndim)   # 2\n",
    "# Size (total number of elements)\n",
    "print(arr1.size)   # 5\n",
    "print(arr2.size)   # 6\n",
    "```\n",
    "## 3. Array Operations\n",
    "NumPy supports a wide range of operations on arrays, including arithmetic operations, statistical functions, and linear algebra operations.\n",
    "```python\n",
    "# Arithmetic operations\n",
    "a = np.array([1, 2, 3])\n",
    "b = np.array([4, 5, 6])\n",
    "print(a + b)  # [5 7 9]\n",
    "print(a * b)  # [ 4 10 18]\n",
    "print(a - b)  # [-3 -3 -3]\n",
    "print(a / b)  # [0.25 0.4  0.5]\n",
    "# Statistical functions\n",
    "print(np.mean(a))  # 2.0\n",
    "print(np.median(b))  # 5.0\n",
    "print(np.std(a))  # 0.816496580927726\n",
    "print(np.correlate(a, b))  # 1.0400000000000002\n",
    "# Linear algebra operations\n",
    "A = np.array([[1, 2], [3, 4]])\n",
    "B = np.array([[5, 6], [7, 8]])\n",
    "print(np.dot(A, B))  # Matrix multiplication\n",
    "print(np.linalg.inv(A))  # Inverse of matrix A\n",
    "```\n",
    "## 4. Universal Functions (ufuncs) & Adding, removing, sorting elements\n",
    "Universal functions are functions that operate element-wise on arrays. They are optimized for performance and can handle broadcasting.\n",
    "```python\n",
    "# Example of ufuncs\n",
    "arr = np.array([1, 2, 3, 4, 5])\n",
    "print(np.sqrt(arr))  # Square root\n",
    "print(np.exp(arr))   # Exponential\n",
    "print(np.log(arr))   # Natural logarithm\n",
    "print(np.sin(arr))   # Sine function   \n",
    "print(np.cos(arr))   # Cosine function\n",
    "# Adding elements\n",
    "arr = np.array([1, 2, 3])\n",
    "arr = np.append(arr, [4, 5])  # Add elements to the end\n",
    "print(arr)  # [1 2 3 4 5]\n",
    "# Removing elements\n",
    "arr = np.array([1, 2, 3, 4, 5])\n",
    "arr = np.delete(arr, [0, 2])  # Remove elements at index 0 and 2\n",
    "print(arr)  # [2 4 5]\n",
    "# Sorting elements\n",
    "arr = np.array([3, 1, 4, 2, 5])\n",
    "sorted_arr = np.sort(arr)  # Sort the array\n",
    "print(sorted_arr)  # [1 2 3 4 5]\n",
    "```\n",
    "\n",
    "## 5. Indexing and Slicing\n",
    "NumPy arrays can be indexed and sliced similarly to Python lists, but with additional capabilities for multi-dimensional arrays.\n",
    "```python\n",
    "# 1D array indexing and slicing\n",
    "arr = np.array([10, 20, 30, 40, 50])\n",
    "print(arr[0])    # 10\n",
    "print(arr[1:4])  # [20 30 40]\n",
    "print(arr[-1])   # 50\n",
    "# 2D array indexing and slicing\n",
    "arr2d = np.array([[1, 2, 3], [4, 5, 6], [7, 8, 9]])\n",
    "print(arr2d[0, 1])    # 2\n",
    "print(arr2d[1:, :2])  # [[4 5]\n",
    "                      #  [7 8]]\n",
    "print(arr2d[:, 2])    # [3 6 9]\n",
    "```\n",
    "## 6. Reshaping and Transposing\n",
    "NumPy provides functions to reshape and transpose arrays, which can be useful for preparing data for machine learning models.\n",
    "```python\n",
    "# Reshaping an array\n",
    "arr = np.arange(12)  # 1D array with 12 elements\n",
    "reshaped_arr = arr.reshape((3, 4))  # Reshape to 3x4\n",
    "print(reshaped_arr)\n",
    "# Transposing an array\n",
    "transposed_arr = reshaped_arr.T  # Transpose the array\n",
    "print(transposed_arr)\n",
    "```\n",
    "## 7. Broadcasting\n",
    "Broadcasting is a powerful feature in NumPy that allows for operations on arrays of different shapes.\n",
    "```python\n",
    "a = np.array([1, 2, 3])\n",
    "b = np.array([[10], [20], [30]])\n",
    "# Broadcasting allows us to add a (3,) array to a (3,1) array\n",
    "result = a + b\n",
    "print(result)\n",
    "# Output:\n",
    "# [[11 12 13]\n",
    "#  [21 22 23]\n",
    "#  [31 32 33]]\n",
    "```\n",
    "## 8. Random Number Generation\n",
    "NumPy includes a module for generating random numbers, which is useful for initializing weights in machine learning models and for creating synthetic datasets.\n",
    "```python\n",
    "# Generating random numbers\n",
    "rand_arr = np.random.rand(3, 4)  # 3x4 array of random floats in [0.0, 1.0)\n",
    "rand_int_arr = np.random.randint(0, 10, size=(2, 3))  # 2x3 array of random integers in [0, 10)\n",
    "print(rand_arr) \n",
    "print(rand_int_arr)\n",
    "```"
   ]
  },
  {
   "cell_type": "markdown",
   "id": "1644b296",
   "metadata": {},
   "source": [
    "# 3. NumPy with objects, CSV files\n",
    "NumPy can also handle arrays of objects, such as strings or mixed data types. Additionally, NumPy can read and write data to and from CSV files, which is useful for data preprocessing in machine learning workflows.\n",
    "\n",
    "```python\n",
    "# Creating an array of strings\n",
    "arr = np.array(['apple', 'banana', 'cherry'])\n",
    "print(arr)\n",
    "\n",
    "# Reading from a CSV file\n",
    "data = np.genfromtxt('data.csv', delimiter=',', dtype=None, encoding='utf-8')\n",
    "print(data)\n",
    "\n",
    "# Writing to a CSV file\n",
    "np.savetxt('output.csv', data, delimiter=',', fmt='%s')"
   ]
  },
  {
   "cell_type": "markdown",
   "id": "e5bcf2b4",
   "metadata": {},
   "source": [
    "## 4. Examples of Numpy in Machine Learning\n",
    "### 1-Linear Regression using NumPy\n",
    "we can implement a simple linear regression model using NumPy to understand how it works under the hood, but why we used it? to perform efficient numerical computations, handle arrays and matrices, and utilize mathematical functions that are essential for implementing the linear regression algorithm."
   ]
  },
  {
   "cell_type": "code",
   "execution_count": null,
   "id": "520b469a",
   "metadata": {},
   "outputs": [],
   "source": [
    "import numpy as np\n",
    "import matplotlib.pyplot as plt\n",
    "# Generate some sample data\n",
    "np.random.seed(0)\n",
    "X = 2 * np.random.rand(100, 1)\n",
    "y = 4 + 3 * X + np.random.randn(100, 1)\n",
    "# Add bias term (intercept)\n",
    "X_b = np.c_[np.ones((100, 1)), X]  # add x0 = 1 to each instance\n",
    "# Calculate weights using the Normal Equation\n",
    "theta_best = np.linalg.inv(X_b.T.dot(X_b)).dot(X_b.T).dot(y)\n",
    "# Make predictions\n",
    "X_new = np.array([[0], [2]])\n",
    "X_new_b = np.c_[np.ones((2, 1)), X_new]  # add x0 = 1 to each instance\n",
    "y_predict = X_new_b.dot(theta_best)\n",
    "# Plot the results\n",
    "plt.plot(X_new, y_predict, \"r-\")\n",
    "plt.plot(X, y, \"b.\")\n",
    "plt.xlabel(\"X\")\n",
    "plt.ylabel(\"y\")\n",
    "plt.title(\"Linear Regression using NumPy\")\n",
    "plt.show()"
   ]
  },
  {
   "cell_type": "markdown",
   "id": "f5eea098",
   "metadata": {},
   "source": [
    "### 2-Data preprocessing using NumPy\n",
    "Data preprocessing is a crucial step in machine learning, and NumPy provides efficient tools for handling and transforming data. Here are some common data preprocessing tasks that can be performed using NumPy."
   ]
  },
  {
   "cell_type": "code",
   "execution_count": null,
   "id": "65ba44cb",
   "metadata": {},
   "outputs": [],
   "source": [
    "# Feature scaling abd normalization\n",
    "features = np.array([[1, 2], [3, 4], [5, 6]])\n",
    "normalized = (features - np.mean(features, axis=0)) / np.std(features, axis=0)\n",
    "print(\"Normalized Features:\\n\", normalized)\n",
    "# Handling missing values\n",
    "data = np.array([[1, 2, np.nan], [4, np.nan, 6], [7, 8, 9]])\n",
    "# Replace NaN with column mean\n",
    "col_mean = np.nanmean(data, axis=0)\n",
    "inds = np.where(np.isnan(data))\n",
    "data[inds] = np.take(col_mean, inds[1])\n",
    "print(\"Data after handling missing values:\\n\", data)\n",
    "# One hot encoding\n",
    "categories = np.array(['cat', 'dog', 'cat', 'bird'])\n",
    "unique_categories = np.unique(categories)\n",
    "one_hot_encoded = np.zeros((categories.shape[0], unique_categories.shape[0]))\n",
    "for i, category in enumerate(categories):\n",
    "    one_hot_encoded[i, np.where(unique_categories == category)[0][0]] = 1\n",
    "print(\"One Hot Encoded:\\n\", one_hot_encoded)"
   ]
  },
  {
   "cell_type": "markdown",
   "id": "73bb957a",
   "metadata": {},
   "source": [
    "### 3-K means clustering using NumPy\n",
    "K-means clustering is an unsupervised machine learning algorithm used to group similar data points into clusters. NumPy can be used to implement the K-means algorithm efficiently. Here's a simple implementation of K-means clustering using NumPy:"
   ]
  },
  {
   "cell_type": "code",
   "execution_count": null,
   "id": "c4fc1889",
   "metadata": {},
   "outputs": [],
   "source": [
    "# Distance calculations using broadcasting\n",
    "data_points = np.array([[1, 2], [3, 4], [5, 6]])\n",
    "centroids = np.array([[2, 3], [4, 5]])\n",
    "distances = np.sqrt(((data_points[:, np.newaxis, :] - centroids[np.newaxis, :, :]) ** 2).sum(axis=2))\n",
    "print(\"Distances:\\n\", distances)\n",
    "# Assign clusters based on minimum distance\n",
    "clusters = np.argmin(distances, axis=1)\n",
    "print(\"Cluster Assignments:\\n\", clusters)"
   ]
  },
  {
   "cell_type": "markdown",
   "id": "4915a4a4",
   "metadata": {},
   "source": [
    "### 4-Neural Networks Activation Functions\n",
    "Neural networks often use activation functions to introduce non-linearity into the model. NumPy can be used to implement common activation functions such as sigmoid, ReLU, and softmax. Here's how you can implement these activation functions using NumPy:"
   ]
  },
  {
   "cell_type": "code",
   "execution_count": null,
   "id": "34c411b1",
   "metadata": {},
   "outputs": [],
   "source": [
    "def relu(x):\n",
    "    return np.maximum(0, x)\n",
    "def sigmoid(x):\n",
    "    return 1 / (1 + np.exp(-x))\n",
    "def softmax(x):\n",
    "    exp_x = np.exp(x - np.max(x, axis=1, keepdims=True))\n",
    "    return exp_x / exp_x.sum(axis=1, keepdims=True)\n",
    "# Example usage\n",
    "z = np.array([[1, 2, 3], [0.1, 0.2, 0.3]])\n",
    "print(\"ReLU:\\n\", relu(z))\n",
    "print(\"Sigmoid:\\n\", sigmoid(z))\n",
    "print(\"Softmax:\\n\", softmax(z))"
   ]
  },
  {
   "cell_type": "markdown",
   "id": "fd592400",
   "metadata": {},
   "source": [
    "For more information, please refer to the [NumPy Documentation](https://numpy.org/doc/2.3/)."
   ]
  }
 ],
 "metadata": {
  "kernelspec": {
   "display_name": "Python 3",
   "language": "python",
   "name": "python3"
  },
  "language_info": {
   "codemirror_mode": {
    "name": "ipython",
    "version": 3
   },
   "file_extension": ".py",
   "mimetype": "text/x-python",
   "name": "python",
   "nbconvert_exporter": "python",
   "pygments_lexer": "ipython3",
   "version": "3.13.2"
  }
 },
 "nbformat": 4,
 "nbformat_minor": 5
}
