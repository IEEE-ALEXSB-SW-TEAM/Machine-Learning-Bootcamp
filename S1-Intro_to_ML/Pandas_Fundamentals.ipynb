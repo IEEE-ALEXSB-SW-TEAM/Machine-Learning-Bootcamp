{
 "cells": [
  {
   "cell_type": "markdown",
   "id": "1c894558",
   "metadata": {},
   "source": [
    "# Pandas Fundamentals"
   ]
  },
  {
   "cell_type": "markdown",
   "id": "3a968af9",
   "metadata": {},
   "source": [
    "## 1. What is Pandas and why do we use it?\n",
    "Pandas is a powerful Python library for data manipulation and analysis. It provides data structures like Series and DataFrames, making it easy to work with structured data. We use Pandas for tasks such as data cleaning, transformation, and exploration, which are essential steps in the data analysis process.\n"
   ]
  },
  {
   "cell_type": "markdown",
   "id": "e402a0b7",
   "metadata": {},
   "source": [
    "## 2. Creating DataFrames\n",
    "DataFrames are two-dimensional, size-mutable, and potentially heterogeneous tabular data structures with labeled axes (rows and columns). They are similar to spreadsheets or SQL tables and are one of the most commonly used data structures in Pandas. Here are some common ways to create DataFrames in Pandas:\n",
    "1. **From a Dictionary**:\n",
    "   You can create a DataFrame from a dictionary where the keys are column names and the values are lists of column data.\n",
    "   ```python\n",
    "   import pandas as pd\n",
    "\n",
    "   data = {\n",
    "       'Name': ['Alice', 'Bob', 'Charlie'],\n",
    "       'Age': [25, 30, 35],\n",
    "       'City': ['New York', 'Los Angeles', 'Chicago']\n",
    "   }\n",
    "   df = pd.DataFrame(data)\n",
    "   print(df)\n",
    "   ```\n",
    "2. **From a List of Dictionaries**:\n",
    "    You can also create a DataFrame from a list of dictionaries, where each dictionary represents a row of data.\n",
    "    ```python\n",
    "    data = [\n",
    "        {'Name': 'Alice', 'Age': 25, 'City': 'New York'},\n",
    "        {'Name': 'Bob', 'Age': 30, 'City': 'Los Angeles'},\n",
    "        {'Name': 'Charlie', 'Age': 35, 'City': 'Chicago'}\n",
    "    ]\n",
    "    df = pd.DataFrame(data)\n",
    "    print(df)\n",
    "    ```\n",
    "3. **From a CSV File**:\n",
    "   You can read data from a CSV file directly into a DataFrame using the `read_csv` function.\n",
    "   ```python\n",
    "   df = pd.read_csv('data.csv')\n",
    "   print(df)\n",
    "   ```\n",
    "4. **From an Excel File**:\n",
    "   You can read data from an Excel file using the `read_excel` function.\n",
    "   ```python\n",
    "   df = pd.read_excel('data.xlsx')\n",
    "   print(df)\n",
    "   ```\n",
    "5. **From a NumPy Array**:\n",
    "   You can create a DataFrame from a NumPy array by specifying the column names.\n",
    "   ```python\n",
    "   import numpy as np\n",
    "   data = np.array([\n",
    "       [25, 'New York'],\n",
    "       [30, 'Los Angeles'],\n",
    "       [35, 'Chicago']\n",
    "   ])\n",
    "   df = pd.DataFrame(data, columns=['Age', 'City'])\n",
    "   print(df)\n",
    "   ``` "
   ]
  },
  {
   "cell_type": "markdown",
   "id": "b2c02844",
   "metadata": {},
   "source": [
    "## 3-Data Manipulation with Pandas\n",
    "Pandas provides a wide range of functions for data manipulation, including filtering, sorting, grouping, and aggregating data. Here are some common data manipulation tasks you can perform with Pandas:\n",
    "1. **Filtering Data**:\n",
    "   You can filter rows in a DataFrame based on certain conditions.\n",
    "   ```python\n",
    "   # Filter rows where Age is greater than 30\n",
    "   filtered_df = df[df['Age'] > 30]\n",
    "   print(filtered_df)\n",
    "   ```\n",
    "2. **Sorting Data**:\n",
    "   You can sort a DataFrame by one or more columns.\n",
    "   ```python\n",
    "   # Sort by Age in descending order\n",
    "   sorted_df = df.sort_values(by='Age', ascending=False)\n",
    "   print(sorted_df)\n",
    "   ```\n",
    "3. **Grouping Data**:\n",
    "    You can group data by one or more columns and perform aggregate functions on the groups.\n",
    "    ```python\n",
    "    # Group by City and calculate the average Age\n",
    "    grouped_df = df.groupby('City')['Age'].mean().reset_index()\n",
    "    print(grouped_df)\n",
    "    ```\n",
    "4. **Adding/Removing Columns**:\n",
    "   You can add new columns or remove existing ones from a DataFrame.\n",
    "   ```python\n",
    "   # Add a new column 'Salary'\n",
    "   df['Salary'] = [50000, 60000, 70000]\n",
    "   print(df)\n",
    "\n",
    "   # Remove the 'City' column\n",
    "   df = df.drop(columns=['City'])\n",
    "   print(df)\n",
    "   ```\n",
    "5. **Handling Missing Data**:\n",
    "   You can handle missing data by either filling it with a specific value or dropping rows/columns with missing values.\n",
    "   ```python\n",
    "   # Fill missing values with the mean of the column\n",
    "   df['Age'] = df['Age'].fillna(df['Age'].mean())\n",
    "   print(df)\n",
    "\n",
    "   # Drop rows with any missing values\n",
    "   df = df.dropna()\n",
    "   print(df)\n",
    "   ```\n"
   ]
  },
  {
   "cell_type": "markdown",
   "id": "0907a1fc",
   "metadata": {},
   "source": [
    "## 4- Creating plots and visualizations\n",
    "Pandas integrates well with Matplotlib, allowing you to create various types of plots and visualizations directly from DataFrames. Here are some common types of plots you can create using Pandas:\n",
    "#### Choosing the Right Plot Type\n",
    "- **Categorical Data** (e.g., brand, gender, country):\n",
    "  - **Bar Plot** → Compare frequencies or averages across categories.\n",
    "  - **Pie Chart** → Show proportions of categories (better for small number of groups).\n",
    "\n",
    "- **Numerical Data (1 variable)**:\n",
    "  - **Histogram** → Show the distribution of values.\n",
    "  - **Box Plot** → Detect spread, median, and outliers.\n",
    "\n",
    "- **Numerical vs Numerical (2 variables)**:\n",
    "  - **Scatter Plot** → Show relationships or correlations.\n",
    "  - **Line Plot** → Use when data has an order (e.g., time series).\n",
    "\n",
    "- **Categorical vs Numerical**:\n",
    "  - **Bar Plot** → Compare mean/median values across categories.\n",
    "  - **Box Plot / Violin Plot** → Show distribution of numerical data for each category.\n",
    "\n",
    "- **Time Series Data**:\n",
    "  - **Line Plot** → Best for trends over time.\n",
    "\n"
   ]
  },
  {
   "cell_type": "markdown",
   "id": "7398e353",
   "metadata": {},
   "source": [
    "![mlconcepts_image6](/S1-Intro_to_ML/images/plots.png)"
   ]
  },
  {
   "cell_type": "markdown",
   "id": "b3ebefa0",
   "metadata": {},
   "source": [
    "## 5- Examples of Pandas in Machine Learning\n",
    "### Data Cleaning and Preparation\n",
    "Pandas is often used in the initial stages of a machine learning project for data cleaning and preparation. This includes handling missing values, removing duplicates, and transforming categorical variables into numerical formats. For example, you can use Pandas to fill missing values with the mean or median of a column, drop rows with missing values, or convert categorical variables into one-hot encoded vectors."
   ]
  },
  {
   "cell_type": "code",
   "execution_count": null,
   "id": "f8774dfb",
   "metadata": {},
   "outputs": [],
   "source": [
    "import pandas as pd\n",
    "import numpy as np\n",
    "import kagglehub\n",
    "import os\n",
    "import glob\n",
    "# Data loading\n",
    "path=kagglehub.dataset_download(\"camnugent/california-housing-prices\")\n",
    "csv_files = glob.glob(path + \"/*.csv\")\n",
    "dfs = [pd.read_csv(file).assign(brand=os.path.splitext(os.path.basename(file))[0]) for file in csv_files] #os-> opertaing system\n",
    "df_combined = pd.concat(dfs, ignore_index=True)\n",
    "\n",
    "print(df_combined.shape) \n",
    "print(df_combined.head())"
   ]
  },
  {
   "cell_type": "code",
   "execution_count": null,
   "id": "54f1fa3f",
   "metadata": {},
   "outputs": [],
   "source": [
    "#Data Handling with Pandas\n",
    "#1. Data Inspection\n",
    "print(df_combined.info())\n",
    "print(df_combined.describe())\n",
    "print(df_combined.isnull().sum())\n",
    "#2. Data Selection\n",
    "# Selecting specific columns\n",
    "selected_columns = df_combined[['longitude', 'latitude', 'median_house_value']]\n",
    "print(selected_columns.head())\n",
    "# Filtering rows based on conditions\n",
    "filtered_rows = df_combined[df_combined['median_house_value'] > 500000]\n",
    "print(filtered_rows.head())\n",
    "#3. Data Cleaning\n",
    "# Handling missing values by filling with the mean\n",
    "df_combined['total_bedrooms'].fillna(df_combined['total_bedrooms'].mean(), inplace=True)\n",
    "# Removing duplicates\n",
    "df_combined.drop_duplicates(inplace=True)"
   ]
  },
  {
   "cell_type": "code",
   "execution_count": null,
   "id": "c88ffed7",
   "metadata": {},
   "outputs": [],
   "source": [
    "#Feature Engineering\n",
    "# Creating a new feature: rooms_per_household\n",
    "df_combined['rooms_per_household'] = df_combined['total_rooms'] / df_combined['households']\n",
    "print(df_combined[['rooms_per_household']].head())\n",
    "# Creating a new feature: bedrooms_per_room\n",
    "df_combined['bedrooms_per_room'] = df_combined['total_bedrooms'] / df_combined['total_rooms']\n",
    "print(df_combined[['bedrooms_per_room']].head())\n",
    "# Creating a new feature: population_per_household\n",
    "df_combined['population_per_household'] = df_combined['population'] / df_combined['households']\n",
    "print(df_combined[['population_per_household']].head())\n",
    "#4. Data Transformation\n",
    "# Normalizing the 'median_house_value' column\n",
    "df_combined['median_house_value_normalized'] = (df_combined['median_house_value'] - df_combined['median_house_value'].min()) / (df_combined['median_house_value'].max() - df_combined['median_house_value'].min())\n",
    "print(df_combined[['median_house_value_normalized']].head())\n",
    "# Encoding categorical variables using one-hot encoding\n",
    "df_combined = pd.get_dummies(df_combined, columns=['ocean_proximity'], drop_first=True)\n",
    "print(df_combined.head())\n",
    "#5. Data Aggregation\n",
    "# Grouping by 'ocean_proximity' and calculating the mean of 'median_house_value'\n",
    "mean_values = df_combined.groupby('ocean_proximity_INLAND')['median_house_value'].mean()\n",
    "print(mean_values)"
   ]
  },
  {
   "cell_type": "markdown",
   "id": "a0edeef0",
   "metadata": {},
   "source": [
    "# Intgration with NumPy\n",
    "Pandas is built on top of NumPy, and it seamlessly integrates with NumPy arrays. You can easily convert Pandas DataFrames to NumPy arrays and vice versa. This is particularly useful when you need to perform numerical computations or use machine learning libraries that require NumPy arrays as input.\n"
   ]
  },
  {
   "cell_type": "code",
   "execution_count": null,
   "id": "8be3ac9e",
   "metadata": {},
   "outputs": [],
   "source": [
    "#Seamless data type conversion\n",
    "# Converting DataFrame to NumPy array\n",
    "numpy_array = df_combined.to_numpy()\n",
    "print(numpy_array[:5])\n",
    "import matplotlib.pyplot as plt\n",
    "# Visualizing the distribution of 'median_house_value'\n",
    "plt.hist(df_combined['median_house_value'], bins=50, edgecolor='k')\n",
    "plt.xlabel('Median House Value')\n",
    "plt.ylabel('Frequency')\n",
    "plt.title('Distribution of Median House Value')\n",
    "plt.show()"
   ]
  },
  {
   "cell_type": "code",
   "execution_count": null,
   "id": "f000abb4",
   "metadata": {},
   "outputs": [],
   "source": [
    "#Using NumPy functions on Pandas DataFrame\n",
    "# Calculating the mean and standard deviation of 'median_house_value' using NumPy\n",
    "mean_value = np.mean(df_combined['median_house_value'])\n",
    "std_value = np.std(df_combined['median_house_value'])\n",
    "print(f\"Mean: {mean_value}, Standard Deviation: {std_value}\")\n"
   ]
  },
  {
   "cell_type": "markdown",
   "id": "67f6334d",
   "metadata": {},
   "source": [
    "## Key benefits of this integration include:\n",
    "1. **Ease of Use**: Pandas provides a user-friendly interface for data manipulation, while NumPy offers powerful numerical operations. Together, they make it easier to work with data and perform complex calculations.\n",
    "2. **Performance**: NumPy is optimized for performance, and using NumPy functions on Pandas DataFrames can lead to faster computations compared to using pure Pandas methods.\n",
    "3. **Flexibility**: You can leverage the strengths of both libraries, using Pandas for data manipulation and NumPy for numerical computations, allowing for more flexible and efficient workflows."
   ]
  },
  {
   "cell_type": "markdown",
   "id": "73b93046",
   "metadata": {},
   "source": [
    "For more information, please refer to the [Pandas Documentation](https://pandas.pydata.org/docs/)."
   ]
  }
 ],
 "metadata": {
  "kernelspec": {
   "display_name": "Python 3",
   "language": "python",
   "name": "python3"
  },
  "language_info": {
   "codemirror_mode": {
    "name": "ipython",
    "version": 3
   },
   "file_extension": ".py",
   "mimetype": "text/x-python",
   "name": "python",
   "nbconvert_exporter": "python",
   "pygments_lexer": "ipython3",
   "version": "3.13.2"
  }
 },
 "nbformat": 4,
 "nbformat_minor": 5
}
