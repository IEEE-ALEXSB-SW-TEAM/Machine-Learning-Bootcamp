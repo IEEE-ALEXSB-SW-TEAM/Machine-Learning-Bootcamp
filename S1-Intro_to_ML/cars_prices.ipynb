{
 "cells": [
  {
   "cell_type": "markdown",
   "id": "606ee30c-6d75-4531-8333-e1304b5bda10",
   "metadata": {},
   "source": [
    "## Imports"
   ]
  },
  {
   "cell_type": "code",
   "execution_count": 1,
   "id": "231945a5-2d8c-4272-bd73-d516e828bdd3",
   "metadata": {},
   "outputs": [],
   "source": [
    "import pandas as pd\n",
    "from sklearn.model_selection import train_test_split\n",
    "from sklearn.linear_model import LinearRegression, Ridge,Lasso \n",
    "from sklearn.metrics import mean_squared_error\n",
    "from sklearn.preprocessing import OneHotEncoder\n",
    "from sklearn.impute import SimpleImputer\n",
    "from sklearn.preprocessing import StandardScaler\n",
    "import glob\n",
    "import math"
   ]
  },
  {
   "cell_type": "markdown",
   "id": "610fe3fc-77df-4705-9dec-6f601a7b8bad",
   "metadata": {},
   "source": [
    "### https://www.kaggle.com/datasets/adityadesai13/used-car-dataset-ford-and-mercedes\n",
    "This dataset was used in the two notebooks, after deleting the 2 uncleaned csv files."
   ]
  },
  {
   "cell_type": "markdown",
   "id": "fae7f9f5-6fac-4016-9878-af699c2de572",
   "metadata": {},
   "source": [
    "## Get all CSV files and combine them"
   ]
  },
  {
   "cell_type": "code",
   "execution_count": 2,
   "id": "d748893a-3d6b-4601-803d-b6a34c43b34b",
   "metadata": {},
   "outputs": [
    {
     "name": "stdout",
     "output_type": "stream",
     "text": [
      "(108540, 10)\n",
      "  model  year  price transmission  mileage fuelType    tax   mpg  engineSize  \\\n",
      "0    A1  2017  12500       Manual    15735   Petrol  150.0  55.4         1.4   \n",
      "1    A6  2016  16500    Automatic    36203   Diesel   20.0  64.2         2.0   \n",
      "2    A1  2016  11000       Manual    29946   Petrol   30.0  55.4         1.4   \n",
      "3    A4  2017  16800    Automatic    25952   Diesel  145.0  67.3         2.0   \n",
      "4    A3  2019  17300       Manual     1998   Petrol  145.0  49.6         1.0   \n",
      "\n",
      "   tax(£)  \n",
      "0     NaN  \n",
      "1     NaN  \n",
      "2     NaN  \n",
      "3     NaN  \n",
      "4     NaN  \n"
     ]
    }
   ],
   "source": [
    "# Get all CSV files in the folder\n",
    "csv_files = glob.glob(\"cars/*.csv\") \n",
    "\n",
    "# Read all CSV files and store them in a list of DataFrames\n",
    "dfs = [pd.read_csv(file) for file in csv_files]\n",
    "\n",
    "# Combine all DataFrames into one\n",
    "df_combined = pd.concat(dfs, ignore_index=True)\n",
    "\n",
    "print(df_combined.shape)  # Check total rows & columns\n",
    "print(df_combined.head())  # Show first 5 rows\n"
   ]
  },
  {
   "cell_type": "markdown",
   "id": "2a14d133-11c6-4bb7-9c0e-b2d8a805eeec",
   "metadata": {},
   "source": [
    "## Dropping what's not important (or what's unclean)"
   ]
  },
  {
   "cell_type": "code",
   "execution_count": 3,
   "id": "bf37956c-bd6a-4366-adec-bb57c603cc98",
   "metadata": {},
   "outputs": [
    {
     "name": "stdout",
     "output_type": "stream",
     "text": [
      "(108540, 8)\n",
      "  model  year  price transmission  mileage fuelType   mpg  engineSize\n",
      "0    A1  2017  12500       Manual    15735   Petrol  55.4         1.4\n",
      "1    A6  2016  16500    Automatic    36203   Diesel  64.2         2.0\n",
      "2    A1  2016  11000       Manual    29946   Petrol  55.4         1.4\n",
      "3    A4  2017  16800    Automatic    25952   Diesel  67.3         2.0\n",
      "4    A3  2019  17300       Manual     1998   Petrol  49.6         1.0\n"
     ]
    }
   ],
   "source": [
    "df_combined = df_combined.drop(\"tax(£)\", axis=1)\n",
    "df_combined = df_combined.drop(\"tax\", axis=1)\n",
    "print(df_combined.shape)  # Check total rows & columns\n",
    "print(df_combined.head())  # Show first 5 rows"
   ]
  },
  {
   "cell_type": "markdown",
   "id": "e140ed27-c09d-4fa1-80e7-f337014720e7",
   "metadata": {},
   "source": [
    "## MPG did have null values, you can fill them with median or mean"
   ]
  },
  {
   "cell_type": "code",
   "execution_count": 4,
   "id": "ffb7867b-cd16-4a6e-a77e-5f0c58feb312",
   "metadata": {},
   "outputs": [],
   "source": [
    "# Create an imputer with median strategy\n",
    "imputer = SimpleImputer(strategy=\"median\")\n",
    "\n",
    "# Fit and transform only the 'mileage' column\n",
    "df_combined[\"mpg\"] = imputer.fit_transform(df_combined[[\"mpg\"]])"
   ]
  },
  {
   "cell_type": "markdown",
   "id": "5c4058c0-0d9b-4f94-af89-41e3b3033e74",
   "metadata": {},
   "source": [
    "## Any categorical column can be hot encoded"
   ]
  },
  {
   "cell_type": "code",
   "execution_count": 5,
   "id": "e8308578-3846-48ce-baeb-bdd385e40d70",
   "metadata": {},
   "outputs": [
    {
     "name": "stdout",
     "output_type": "stream",
     "text": [
      "   year  price  mileage   mpg  engineSize  model_ 2 Series  model_ 3 Series  \\\n",
      "0  2017  12500    15735  55.4         1.4              0.0              0.0   \n",
      "1  2016  16500    36203  64.2         2.0              0.0              0.0   \n",
      "2  2016  11000    29946  55.4         1.4              0.0              0.0   \n",
      "3  2017  16800    25952  67.3         2.0              0.0              0.0   \n",
      "4  2019  17300     1998  49.6         1.0              0.0              0.0   \n",
      "\n",
      "   model_ 4 Series  model_ 5 Series  model_ 6 Series  ...  model_200  \\\n",
      "0              0.0              0.0              0.0  ...        0.0   \n",
      "1              0.0              0.0              0.0  ...        0.0   \n",
      "2              0.0              0.0              0.0  ...        0.0   \n",
      "3              0.0              0.0              0.0  ...        0.0   \n",
      "4              0.0              0.0              0.0  ...        0.0   \n",
      "\n",
      "   model_220  model_230  transmission_Manual  transmission_Other  \\\n",
      "0        0.0        0.0                  1.0                 0.0   \n",
      "1        0.0        0.0                  0.0                 0.0   \n",
      "2        0.0        0.0                  1.0                 0.0   \n",
      "3        0.0        0.0                  0.0                 0.0   \n",
      "4        0.0        0.0                  1.0                 0.0   \n",
      "\n",
      "   transmission_Semi-Auto  fuelType_Electric  fuelType_Hybrid  fuelType_Other  \\\n",
      "0                     0.0                0.0              0.0             0.0   \n",
      "1                     0.0                0.0              0.0             0.0   \n",
      "2                     0.0                0.0              0.0             0.0   \n",
      "3                     0.0                0.0              0.0             0.0   \n",
      "4                     0.0                0.0              0.0             0.0   \n",
      "\n",
      "   fuelType_Petrol  \n",
      "0              1.0  \n",
      "1              0.0  \n",
      "2              1.0  \n",
      "3              0.0  \n",
      "4              1.0  \n",
      "\n",
      "[5 rows x 206 columns]\n"
     ]
    }
   ],
   "source": [
    "# Load data (assuming df_combined is already read)\n",
    "categorical_cols = [\"model\",\"transmission\", \"fuelType\"]\n",
    "\n",
    "# One-Hot Encoding (drop first category to avoid multicollinearity)\n",
    "encoder = OneHotEncoder(sparse_output=False, drop=\"first\")\n",
    "encoded_data = encoder.fit_transform(df_combined[categorical_cols])\n",
    "\n",
    "# Convert to DataFrame with proper column names\n",
    "encoded_df = pd.DataFrame(encoded_data, columns=encoder.get_feature_names_out(categorical_cols))\n",
    "\n",
    "# Drop original categorical columns and concatenate new encoded columns\n",
    "df_combined = df_combined.drop(categorical_cols, axis=1)\n",
    "df_combined = pd.concat([df_combined, encoded_df], axis=1)\n",
    "print(df_combined.head())"
   ]
  },
  {
   "cell_type": "markdown",
   "id": "4edb318e-f10d-459a-877a-713b4c29ebd3",
   "metadata": {},
   "source": [
    "## Car age is better than year and more descriptive"
   ]
  },
  {
   "cell_type": "code",
   "execution_count": 6,
   "id": "97a61c60-cc0d-48f3-a120-902914da421b",
   "metadata": {},
   "outputs": [
    {
     "name": "stdout",
     "output_type": "stream",
     "text": [
      "   price  mileage   mpg  engineSize  model_ 2 Series  model_ 3 Series  \\\n",
      "0  12500    15735  55.4         1.4              0.0              0.0   \n",
      "1  16500    36203  64.2         2.0              0.0              0.0   \n",
      "2  11000    29946  55.4         1.4              0.0              0.0   \n",
      "3  16800    25952  67.3         2.0              0.0              0.0   \n",
      "4  17300     1998  49.6         1.0              0.0              0.0   \n",
      "\n",
      "   model_ 4 Series  model_ 5 Series  model_ 6 Series  model_ 7 Series  ...  \\\n",
      "0              0.0              0.0              0.0              0.0  ...   \n",
      "1              0.0              0.0              0.0              0.0  ...   \n",
      "2              0.0              0.0              0.0              0.0  ...   \n",
      "3              0.0              0.0              0.0              0.0  ...   \n",
      "4              0.0              0.0              0.0              0.0  ...   \n",
      "\n",
      "   model_220  model_230  transmission_Manual  transmission_Other  \\\n",
      "0        0.0        0.0                  1.0                 0.0   \n",
      "1        0.0        0.0                  0.0                 0.0   \n",
      "2        0.0        0.0                  1.0                 0.0   \n",
      "3        0.0        0.0                  0.0                 0.0   \n",
      "4        0.0        0.0                  1.0                 0.0   \n",
      "\n",
      "   transmission_Semi-Auto  fuelType_Electric  fuelType_Hybrid  fuelType_Other  \\\n",
      "0                     0.0                0.0              0.0             0.0   \n",
      "1                     0.0                0.0              0.0             0.0   \n",
      "2                     0.0                0.0              0.0             0.0   \n",
      "3                     0.0                0.0              0.0             0.0   \n",
      "4                     0.0                0.0              0.0             0.0   \n",
      "\n",
      "   fuelType_Petrol  car_age  \n",
      "0              1.0        8  \n",
      "1              0.0        9  \n",
      "2              1.0        9  \n",
      "3              0.0        8  \n",
      "4              1.0        6  \n",
      "\n",
      "[5 rows x 206 columns]\n"
     ]
    }
   ],
   "source": [
    "df_combined[\"car_age\"] = 2025 - df_combined[\"year\"]\n",
    "df_combined = df_combined.drop(\"year\", axis=1)  # Drop the original year column\n",
    "print(df_combined.head())  # Show first 5 rows"
   ]
  },
  {
   "cell_type": "markdown",
   "id": "25aa0366-c034-40af-a0c8-de441ca12de1",
   "metadata": {},
   "source": [
    "## Separate features (X) and target (y)"
   ]
  },
  {
   "cell_type": "code",
   "execution_count": 7,
   "id": "887de1ae-ded8-464e-bec8-dc3bb87bddff",
   "metadata": {},
   "outputs": [
    {
     "name": "stdout",
     "output_type": "stream",
     "text": [
      "Mean price: 16890.124046434496\n"
     ]
    },
    {
     "data": {
      "text/plain": [
       "14698.0"
      ]
     },
     "execution_count": 7,
     "metadata": {},
     "output_type": "execute_result"
    }
   ],
   "source": [
    "X = df_combined.drop(\"price\", axis=1)  # Features\n",
    "y = df_combined[\"price\"]  # Target\n",
    "print(\"Mean price:\", y.mean())\n",
    "y.median()"
   ]
  },
  {
   "cell_type": "markdown",
   "id": "42bf5d18-9a45-44d4-a578-2c8fc491c32e",
   "metadata": {},
   "source": [
    "## Split data: 60% train, 20% validation, 20% test"
   ]
  },
  {
   "cell_type": "code",
   "execution_count": 8,
   "id": "db86b5a2-9a03-49ea-8066-12275dc328ce",
   "metadata": {},
   "outputs": [],
   "source": [
    "X_train, X_temp, y_train, y_temp = train_test_split(X, y, test_size=0.4, random_state=42)  # 60% train\n",
    "X_val, X_test, y_val, y_test = train_test_split(X_temp, y_temp, test_size=0.5, random_state=42)  # 20% val, 20% test"
   ]
  },
  {
   "cell_type": "markdown",
   "id": "a1c85387-6a02-4f7d-a025-9802474f7353",
   "metadata": {},
   "source": [
    "## Scaling the data (zero mean, unit variance)"
   ]
  },
  {
   "cell_type": "code",
   "execution_count": 9,
   "id": "1bbc321c-cddf-485e-af54-54a911830703",
   "metadata": {},
   "outputs": [],
   "source": [
    "scaler = StandardScaler()\n",
    "\n",
    "# Fit on training data, transform all sets\n",
    "X_train_scaled = scaler.fit_transform(X_train)\n",
    "X_val_scaled = scaler.transform(X_val)\n",
    "X_test_scaled = scaler.transform(X_test)\n"
   ]
  },
  {
   "cell_type": "markdown",
   "id": "6bc8093d-4e02-4e84-ad02-25155f43714c",
   "metadata": {},
   "source": [
    "## Linear Regression Model"
   ]
  },
  {
   "cell_type": "code",
   "execution_count": 10,
   "id": "9adfd4b3-a0da-450e-8640-37807f44f187",
   "metadata": {},
   "outputs": [
    {
     "name": "stdout",
     "output_type": "stream",
     "text": [
      "price                0\n",
      "mileage              0\n",
      "mpg                  0\n",
      "engineSize           0\n",
      "model_ 2 Series      0\n",
      "                    ..\n",
      "fuelType_Electric    0\n",
      "fuelType_Hybrid      0\n",
      "fuelType_Other       0\n",
      "fuelType_Petrol      0\n",
      "car_age              0\n",
      "Length: 206, dtype: int64\n",
      "Linear Regression - Validation MSE: 14043075.13\n",
      "Linear Regression - Test MSE: 14211374.03\n"
     ]
    }
   ],
   "source": [
    "print(df_combined.isnull().sum())  # used it before MPG\n",
    "lr_model = LinearRegression()\n",
    "lr_model.fit(X_train_scaled, y_train)\n",
    "\n",
    "# Predict\n",
    "y_val_pred = lr_model.predict(X_val_scaled)\n",
    "y_test_pred = lr_model.predict(X_test_scaled)\n",
    "\n",
    "# Calculate MSE\n",
    "val_mse = mean_squared_error(y_val, y_val_pred)\n",
    "test_mse = mean_squared_error(y_test, y_test_pred)\n",
    "\n",
    "print(f\"Linear Regression - Validation MSE: {val_mse:.2f}\")\n",
    "print(f\"Linear Regression - Test MSE: {test_mse:.2f}\")\n"
   ]
  },
  {
   "cell_type": "markdown",
   "id": "38019db5-8a65-4bee-8fdd-04e8aab91c75",
   "metadata": {},
   "source": [
    "## L1 Regularization"
   ]
  },
  {
   "cell_type": "code",
   "execution_count": 11,
   "id": "2f573e78-c788-4d6a-8f6d-25fd2481d6fe",
   "metadata": {},
   "outputs": [
    {
     "name": "stdout",
     "output_type": "stream",
     "text": [
      "Ridge Regression - Validation MSE: 14043009.11\n",
      "Ridge Regression - Test MSE: 14214127.53\n"
     ]
    }
   ],
   "source": [
    "lasso_model = Lasso(alpha=1.0)  # Alpha = Regularization Strength\n",
    "lasso_model.fit(X_train_scaled, y_train)\n",
    "\n",
    "# Predict and evaluate\n",
    "y_val_lasso = lasso_model.predict(X_val_scaled)\n",
    "y_test_lasso = lasso_model.predict(X_test_scaled)\n",
    "\n",
    "lasso_val_mse = mean_squared_error(y_val, y_val_lasso)\n",
    "lasso_test_mse = mean_squared_error(y_test, y_test_lasso)\n",
    "\n",
    "print(f\"Ridge Regression - Validation MSE: {lasso_val_mse:.2f}\")\n",
    "print(f\"Ridge Regression - Test MSE: {lasso_test_mse:.2f}\")\n"
   ]
  },
  {
   "cell_type": "markdown",
   "id": "e15d08b9-cdc6-479f-862d-d10d10413cc6",
   "metadata": {},
   "source": [
    "## L2 Regularization"
   ]
  },
  {
   "cell_type": "code",
   "execution_count": 12,
   "id": "382c84af-701a-4f8b-ac1c-0190cde92cad",
   "metadata": {},
   "outputs": [
    {
     "name": "stdout",
     "output_type": "stream",
     "text": [
      "Ridge Regression - Validation MSE: 14043056.36\n",
      "Ridge Regression - Test MSE: 14211397.68\n"
     ]
    }
   ],
   "source": [
    "ridge_model = Ridge(alpha=1.0)  # Alpha = Regularization Strength\n",
    "ridge_model.fit(X_train_scaled, y_train)\n",
    "\n",
    "# Predict and evaluate\n",
    "y_val_ridge = ridge_model.predict(X_val_scaled)\n",
    "y_test_ridge = ridge_model.predict(X_test_scaled)\n",
    "\n",
    "ridge_val_mse = mean_squared_error(y_val, y_val_ridge)\n",
    "ridge_test_mse = mean_squared_error(y_test, y_test_ridge)\n",
    "\n",
    "print(f\"Ridge Regression - Validation MSE: {ridge_val_mse:.2f}\")\n",
    "print(f\"Ridge Regression - Test MSE: {ridge_test_mse:.2f}\")\n"
   ]
  },
  {
   "cell_type": "code",
   "execution_count": 13,
   "id": "be98cbe2-b21f-442b-9eeb-64af9581d671",
   "metadata": {},
   "outputs": [
    {
     "data": {
      "text/plain": [
       "0.256483926234425"
      ]
     },
     "execution_count": 13,
     "metadata": {},
     "output_type": "execute_result"
    }
   ],
   "source": [
    "math.sqrt(ridge_test_mse)/y.median()"
   ]
  },
  {
   "cell_type": "code",
   "execution_count": 14,
   "id": "9cf6bc71-a722-44ed-96c8-a28c5390abd0",
   "metadata": {},
   "outputs": [
    {
     "data": {
      "text/plain": [
       "0.2565085588850643"
      ]
     },
     "execution_count": 14,
     "metadata": {},
     "output_type": "execute_result"
    }
   ],
   "source": [
    "math.sqrt(lasso_test_mse)/y.median()"
   ]
  },
  {
   "cell_type": "markdown",
   "id": "4bebbe27-57b3-4e7c-9aab-c2e08d47fadc",
   "metadata": {},
   "source": [
    "It can be better, check version two for a better model, and check the changes."
   ]
  }
 ],
 "metadata": {
  "kernelspec": {
   "display_name": "Python 3 (ipykernel)",
   "language": "python",
   "name": "python3"
  },
  "language_info": {
   "codemirror_mode": {
    "name": "ipython",
    "version": 3
   },
   "file_extension": ".py",
   "mimetype": "text/x-python",
   "name": "python",
   "nbconvert_exporter": "python",
   "pygments_lexer": "ipython3",
   "version": "3.12.0"
  }
 },
 "nbformat": 4,
 "nbformat_minor": 5
}
