{
 "cells": [
  {
   "cell_type": "code",
   "execution_count": null,
   "id": "1eb0e47b-3205-4de5-ad8a-325f0a5ae777",
   "metadata": {},
   "outputs": [
    {
     "name": "stdout",
     "output_type": "stream",
     "text": [
      "\u001b[1m1/1\u001b[0m \u001b[32m━━━━━━━━━━━━━━━━━━━━\u001b[0m\u001b[37m\u001b[0m \u001b[1m0s\u001b[0m 162ms/step - accuracy: 1.0000 - loss: 0.0636\n",
      "Model Accuracy: 100.00%\n",
      "WARNING:tensorflow:5 out of the last 5 calls to <function TensorFlowTrainer.make_predict_function.<locals>.one_step_on_data_distributed at 0x000001CBFFC540E0> triggered tf.function retracing. Tracing is expensive and the excessive number of tracings could be due to (1) creating @tf.function repeatedly in a loop, (2) passing tensors with different shapes, (3) passing Python objects instead of tensors. For (1), please define your @tf.function outside of the loop. For (2), @tf.function has reduce_retracing=True option that can avoid unnecessary retracing. For (3), please refer to https://www.tensorflow.org/guide/function#controlling_retracing and https://www.tensorflow.org/api_docs/python/tf/function for  more details.\n",
      "\u001b[1m1/1\u001b[0m \u001b[32m━━━━━━━━━━━━━━━━━━━━\u001b[0m\u001b[37m\u001b[0m \u001b[1m0s\u001b[0m 73ms/step\n",
      "\n",
      "Predictions:\n",
      "[[0.06925513]\n",
      " [0.92435336]\n",
      " [0.9683893 ]\n",
      " [0.06925513]]\n"
     ]
    }
   ],
   "source": [
    "import tensorflow as tf\n",
    "from tensorflow.keras.models import Sequential\n",
    "from tensorflow.keras.layers import Dense\n",
    "import numpy as np\n",
    "\n",
    "# Create a simple dataset (e.g., classification)\n",
    "# Features (input)\n",
    "X = np.array([[0, 0], [0, 1], [1, 0], [1, 1]])\n",
    "# Labels (output)\n",
    "y = np.array([[0], [1], [1], [0]])\n",
    "\n",
    "# Define the neural network model\n",
    "model = Sequential()\n",
    "\n",
    "# Add layers: Input layer (2 neurons) + Hidden layer (3 neurons) + Output layer (1 neuron)\n",
    "model.add(Dense(3, input_dim=2, activation='relu'))  # Hidden layer\n",
    "model.add(Dense(3, activation='relu'))\n",
    "model.add(Dense(1, activation='sigmoid'))  # Output layer (binary classification)\n",
    "\n",
    "# Compile the model with binary cross-entropy loss and an optimizer\n",
    "model.compile(loss='binary_crossentropy', optimizer='adam', metrics=['accuracy'])\n",
    "\n",
    "# Train the model\n",
    "model.fit(X, y, epochs=1000, verbose=0)\n",
    "\n",
    "# Evaluate the model on the training data\n",
    "loss, accuracy = model.evaluate(X, y)\n",
    "\n",
    "# Output the results\n",
    "print(f\"Model Accuracy: {accuracy*100:.2f}%\")\n",
    "\n",
    "# Make predictions\n",
    "predictions = model.predict(X)\n",
    "print(\"\\nPredictions:\")\n",
    "print(predictions)\n",
    "\n"
   ]
  },
  {
   "cell_type": "markdown",
   "id": "a339aecc-b904-4463-a2d9-f9ae1d8f2f78",
   "metadata": {},
   "source": [
    "## Comment\n",
    "Try the code with the extra hidden layer and without, and see the difference"
   ]
  }
 ],
 "metadata": {
  "kernelspec": {
   "display_name": "Python 3 (ipykernel)",
   "language": "python",
   "name": "python3"
  },
  "language_info": {
   "codemirror_mode": {
    "name": "ipython",
    "version": 3
   },
   "file_extension": ".py",
   "mimetype": "text/x-python",
   "name": "python",
   "nbconvert_exporter": "python",
   "pygments_lexer": "ipython3",
   "version": "3.12.0"
  }
 },
 "nbformat": 4,
 "nbformat_minor": 5
}
