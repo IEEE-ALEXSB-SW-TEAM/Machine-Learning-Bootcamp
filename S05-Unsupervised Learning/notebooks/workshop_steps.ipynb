{
 "cells": [
  {
   "cell_type": "markdown",
   "id": "93bcf51d",
   "metadata": {},
   "source": [
    "## PCA + KMeans Workshop Steps\n",
    "\n",
    "### 1. Load Dataset\n",
    "- Import dataset (`Mall_Customers.csv`).\n",
    "- Preview data\n",
    "\n",
    "### 2. Preprocess Data\n",
    "- Drop, Encode → numeric, Scale\n",
    "\n",
    "### 3. Find Optimal k (Elbow Method)\n",
    "- Run KMeans for `k = 2 … 10`.\n",
    "- Collect inertia values.\n",
    "- Plot inertia vs. k. and Choose the elbow point\n",
    "\n",
    "### 4. Fit Final KMeans\n",
    "- Train KMeans with chosen `k`\n",
    "- Get cluster labels (`fit_predict`)\n",
    "\n",
    "### 5. Apply PCA for Visualization\n",
    "- Reduce scaled data to **2 components** using PCA\n",
    "- Check explained variance ratio\n",
    "- Keep 2D transformed data for plotting\n",
    "\n",
    "### 6. Visualize Clusters\n",
    "- Create scatter plot:\n",
    "  - x-axis → PC1\n",
    "  - y-axis → PC2\n",
    "\n"
   ]
  }
 ],
 "metadata": {
  "language_info": {
   "name": "python"
  }
 },
 "nbformat": 4,
 "nbformat_minor": 5
}
